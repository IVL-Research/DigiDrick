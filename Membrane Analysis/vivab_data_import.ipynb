{
 "cells": [
  {
   "cell_type": "markdown",
   "metadata": {},
   "source": [
    "# Data import\n",
    "Script used to read txt and xls files and convert to pickled data files later imported by MembraneAnalysis"
   ]
  },
  {
   "cell_type": "code",
   "execution_count": 2,
   "metadata": {},
   "outputs": [],
   "source": [
    "import pandas as pd\n",
    "import pickle\n",
    "import glob"
   ]
  },
  {
   "cell_type": "markdown",
   "metadata": {},
   "source": [
    "## Settings\n",
    "- dataDir = directory file path where txt files are stored (if applicable)\n",
    "- data_file = file path to excel file (if applicable)\n",
    "- result_name = name of result file"
   ]
  },
  {
   "cell_type": "code",
   "execution_count": 2,
   "metadata": {},
   "outputs": [],
   "source": [
    "dataDir = 'C:/Users/joel0921/OneDrive - IVL Svenska Miljöinstitutet AB/DigiDrick II/VIVAB/UF_EXPORT_Raw_200401/' \n",
    "data_file = 'C:/Users/joel0921/OneDrive - IVL Svenska Miljöinstitutet AB/DigiDrick II/VIVAB/UF-fullskaleanläggning_processignaler_ja.2018-april2019.xlsx'\n",
    "result_file = 'joined_data_180101-200401_1m'"
   ]
  },
  {
   "cell_type": "markdown",
   "metadata": {},
   "source": [
    "## Import txt files"
   ]
  },
  {
   "cell_type": "code",
   "execution_count": 2,
   "metadata": {},
   "outputs": [
    {
     "name": "stdout",
     "output_type": "stream",
     "text": [
      "Importing file 1 out of 72\n",
      "Importing file 2 out of 72\n",
      "Importing file 3 out of 72\n",
      "Importing file 4 out of 72\n",
      "Importing file 5 out of 72\n",
      "Importing file 6 out of 72\n",
      "Importing file 7 out of 72\n",
      "Importing file 8 out of 72\n",
      "Importing file 9 out of 72\n",
      "Importing file 10 out of 72\n",
      "Importing file 11 out of 72\n",
      "Importing file 12 out of 72\n",
      "Importing file 13 out of 72\n",
      "Importing file 14 out of 72\n",
      "Importing file 15 out of 72\n",
      "Importing file 16 out of 72\n",
      "Importing file 17 out of 72\n",
      "Importing file 18 out of 72\n",
      "Importing file 19 out of 72\n",
      "Importing file 20 out of 72\n",
      "Importing file 21 out of 72\n",
      "Importing file 22 out of 72\n",
      "Importing file 23 out of 72\n",
      "Importing file 24 out of 72\n",
      "Importing file 25 out of 72\n",
      "Importing file 26 out of 72\n",
      "Importing file 27 out of 72\n",
      "Importing file 28 out of 72\n",
      "Importing file 29 out of 72\n",
      "Importing file 30 out of 72\n",
      "Importing file 31 out of 72\n",
      "Importing file 32 out of 72\n",
      "Importing file 33 out of 72\n",
      "Importing file 34 out of 72\n",
      "Importing file 35 out of 72\n",
      "Importing file 36 out of 72\n",
      "Importing file 37 out of 72\n",
      "Importing file 38 out of 72\n",
      "Importing file 39 out of 72\n",
      "Importing file 40 out of 72\n",
      "Importing file 41 out of 72\n",
      "Importing file 42 out of 72\n",
      "Importing file 43 out of 72\n",
      "Importing file 44 out of 72\n",
      "Importing file 45 out of 72\n",
      "Importing file 46 out of 72\n",
      "Importing file 47 out of 72\n",
      "Importing file 48 out of 72\n",
      "Importing file 49 out of 72\n",
      "Importing file 50 out of 72\n",
      "Importing file 51 out of 72\n",
      "Importing file 52 out of 72\n",
      "Importing file 53 out of 72\n",
      "Importing file 54 out of 72\n",
      "Importing file 55 out of 72\n",
      "Importing file 56 out of 72\n",
      "Importing file 57 out of 72\n",
      "Importing file 58 out of 72\n",
      "Importing file 59 out of 72\n",
      "Importing file 60 out of 72\n",
      "Importing file 61 out of 72\n",
      "Importing file 62 out of 72\n",
      "Importing file 63 out of 72\n",
      "Importing file 64 out of 72\n",
      "Importing file 65 out of 72\n",
      "Importing file 66 out of 72\n",
      "Importing file 67 out of 72\n",
      "Importing file 68 out of 72\n",
      "Importing file 69 out of 72\n",
      "Importing file 70 out of 72\n",
      "Importing file 71 out of 72\n",
      "Importing file 72 out of 72\n"
     ]
    }
   ],
   "source": [
    "filenames = glob.glob(dataDir + '*.txt') \n",
    "count=1\n",
    "signals = []\n",
    "for file in filenames:\n",
    "    print('Importing file ' + str(count) + ' out of ' + str(len(filenames)))\n",
    "    sensor_data = pd.read_csv(file, delimiter='\\t')\n",
    "    col = sensor_data.index\n",
    "    index = []\n",
    "    value = []\n",
    "    for ix in range(len(col)):\n",
    "        index.append(col[:][ix][0])\n",
    "        value.append(col[:][ix][1])\n",
    "            \n",
    "    key = {'JAN':'01', 'FEB':'02', 'MAR':'03', 'APR':'04', 'MAJ':'05', 'JUN':'06', 'JUL':'07', 'AUG':'08', 'SEP':'09', 'OKT':'10', 'NOV':'11', 'DEC':'12'}\n",
    "    index_mod = []\n",
    "    for date in index:\n",
    "        for month, num in key.items():\n",
    "            date = date.replace(month, num)\n",
    "        index_mod.append(date)\n",
    "\n",
    "    index_dt = pd.to_datetime(index_mod, dayfirst=True)\n",
    "    signals.append(pd.DataFrame(data=value, index=index_dt, columns=[sensor_data.columns[0]]))\n",
    "    count += 1\n",
    "\n",
    "    \n",
    "txt_data = pd.DataFrame()\n",
    "for s in signals:\n",
    "    txt_data = txt_data.join(s, how='outer')"
   ]
  },
  {
   "cell_type": "markdown",
   "metadata": {},
   "source": [
    "## Import Excel-file"
   ]
  },
  {
   "cell_type": "code",
   "execution_count": 4,
   "metadata": {},
   "outputs": [
    {
     "name": "stdout",
     "output_type": "stream",
     "text": [
      "Importing: Janurari 2018\n",
      "Importing: Februari 2018\n",
      "Importing: Mars 2018\n",
      "Importing: April 2018\n",
      "Importing: Maj 2018\n",
      "Importing: Juni 2018\n",
      "Importing: Juli 2018\n",
      "Importing: Augusti 2018\n",
      "Importing: September 2018\n",
      "Importing: Oktober 2018\n",
      "Importing: November 2018\n",
      "Importing: December 2018\n",
      "Importing: Januari 2019\n",
      "Importing: Februari 2019\n",
      "Importing: Mars 2019\n",
      "Importing: April 2019\n"
     ]
    }
   ],
   "source": [
    "xl = pd.ExcelFile(data_file)\n",
    "sheet_names = xl.sheet_names\n",
    "excel_data = pd.DataFrame()\n",
    "for sheet in sheet_names[1:]:\n",
    "    print('Importing: ' + sheet)\n",
    "    df = pd.read_excel(xl, sheet_name=sheet)  # Import data file to pandas Dataframe\n",
    "    df.index = df['Tid']\n",
    "    df = df.drop(['Tid'], axis=1)\n",
    "    excel_data = pd.concat([excel_data, df])\n",
    "\n",
    "excel_data = excel_data.drop_duplicates()"
   ]
  },
  {
   "cell_type": "markdown",
   "metadata": {},
   "source": [
    "## Merge and store data"
   ]
  },
  {
   "cell_type": "code",
   "execution_count": 5,
   "metadata": {},
   "outputs": [
    {
     "name": "stderr",
     "output_type": "stream",
     "text": [
      "C:\\Users\\joel0921\\AppData\\Local\\Continuum\\anaconda3\\lib\\site-packages\\ipykernel_launcher.py:1: FutureWarning: Sorting because non-concatenation axis is not aligned. A future version\n",
      "of pandas will change to not sort by default.\n",
      "\n",
      "To accept the future behavior, pass 'sort=False'.\n",
      "\n",
      "To retain the current behavior and silence the warning, pass 'sort=True'.\n",
      "\n",
      "  \"\"\"Entry point for launching an IPython kernel.\n"
     ]
    }
   ],
   "source": [
    "joined_data = pd.concat([excel_data, txt_data])\n",
    "joined_data_resampled = joined_data.resample('1T').median().ffill()\n",
    "joined_data_resampled.to_pickle(result_name + '.pkl')"
   ]
  },
  {
   "cell_type": "code",
   "execution_count": null,
   "metadata": {},
   "outputs": [],
   "source": []
  }
 ],
 "metadata": {
  "kernelspec": {
   "display_name": "Python 3",
   "language": "python",
   "name": "python3"
  },
  "language_info": {
   "codemirror_mode": {
    "name": "ipython",
    "version": 3
   },
   "file_extension": ".py",
   "mimetype": "text/x-python",
   "name": "python",
   "nbconvert_exporter": "python",
   "pygments_lexer": "ipython3",
   "version": "3.7.4"
  }
 },
 "nbformat": 4,
 "nbformat_minor": 2
}
